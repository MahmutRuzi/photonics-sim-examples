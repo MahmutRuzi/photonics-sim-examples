{
  "nbformat": 4,
  "nbformat_minor": 0,
  "metadata": {
    "colab": {
      "provenance": [],
      "authorship_tag": "ABX9TyOwI3znGoigEZuKjcMMaWeK",
      "include_colab_link": true
    },
    "kernelspec": {
      "name": "python3",
      "display_name": "Python 3"
    },
    "language_info": {
      "name": "python"
    },
    "accelerator": "GPU",
    "gpuClass": "standard"
  },
  "cells": [
    {
      "cell_type": "markdown",
      "metadata": {
        "id": "view-in-github",
        "colab_type": "text"
      },
      "source": [
        "<a href=\"https://colab.research.google.com/github/MahmutRuzi/photonics-sim-examples/blob/main/Quasi_BIC_aSi_nanobars.ipynb\" target=\"_parent\"><img src=\"https://colab.research.google.com/assets/colab-badge.svg\" alt=\"Open In Colab\"/></a>"
      ]
    },
    {
      "cell_type": "markdown",
      "source": [
        "\n",
        "#Quasi-bound states in the continuum (BIC)\n",
        "\n",
        "In this example, we simulate the transmitance spectrum of arrays of amorphous silicone nanobars periodically (square lattice) placed on a glass substrate. For simulations, we use the rigorosuly coupled wave analysis approach (RCWA), as implemented in torcwa (https://github.com/kch3782/torcwa). The aim is to reproduce Fig.1 b (left) from a published work by Hui-Hsin Hsiao et al. Adv. Optical Mater. 2022, 10, 2200812. https://doi.org/10.1002/adom.202200812. The whole simulation takes around 20 minutes in free version of colab (Standard GPU).\n",
        "\n",
        "Author: Mahmut Ruzi\n",
        "\n",
        "Contact: mruzi17@gmail.com\n",
        "\n",
        "We first check if GPU acceleration using cuda is enabled.\n"
      ],
      "metadata": {
        "id": "ZZtMbgjFk3ut"
      }
    },
    {
      "cell_type": "code",
      "source": [
        "import torch\n",
        "torch.cuda.is_available()"
      ],
      "metadata": {
        "id": "fL-_EYQJmQqr",
        "colab": {
          "base_uri": "https://localhost:8080/"
        },
        "outputId": "42fcd3dc-18e7-41d7-8d81-55b5949f4ba5"
      },
      "execution_count": null,
      "outputs": [
        {
          "output_type": "execute_result",
          "data": {
            "text/plain": [
              "True"
            ]
          },
          "metadata": {},
          "execution_count": 1
        }
      ]
    },
    {
      "cell_type": "markdown",
      "source": [
        "Let's install the RCWA package torcwa."
      ],
      "metadata": {
        "id": "bSPduKXTmZfp"
      }
    },
    {
      "cell_type": "code",
      "source": [
        "!pip3 install torcwa"
      ],
      "metadata": {
        "id": "OEPLVWatmcu-",
        "colab": {
          "base_uri": "https://localhost:8080/"
        },
        "outputId": "d5d06ae9-bfb1-47a5-f598-dc21da77ac27"
      },
      "execution_count": null,
      "outputs": [
        {
          "output_type": "stream",
          "name": "stdout",
          "text": [
            "Looking in indexes: https://pypi.org/simple, https://us-python.pkg.dev/colab-wheels/public/simple/\n",
            "Collecting torcwa\n",
            "  Downloading torcwa-0.1.4.2-py3-none-any.whl (14 kB)\n",
            "Requirement already satisfied: torch>=1.10.1 in /usr/local/lib/python3.9/dist-packages (from torcwa) (1.13.1+cu116)\n",
            "Requirement already satisfied: typing-extensions in /usr/local/lib/python3.9/dist-packages (from torch>=1.10.1->torcwa) (4.5.0)\n",
            "Installing collected packages: torcwa\n",
            "Successfully installed torcwa-0.1.4.2\n"
          ]
        }
      ]
    },
    {
      "cell_type": "markdown",
      "source": [
        "Let's import relevant packages. "
      ],
      "metadata": {
        "id": "p_F-n8eDmfr9"
      }
    },
    {
      "cell_type": "code",
      "source": [
        "import time\n",
        "import torch\n",
        "import numpy as np\n",
        "from numpy import savez_compressed \n",
        "from matplotlib import pyplot as plt\n",
        "\n",
        "import torcwa\n",
        "torch.backends.cuda.matmul.allow_tf32 = True\n",
        "sim_dtype = torch.complex64\n",
        "geo_dtype = torch.float32\n",
        "device = torch.device('cuda')"
      ],
      "metadata": {
        "id": "F6KRFOjdmzm3"
      },
      "execution_count": null,
      "outputs": []
    },
    {
      "cell_type": "markdown",
      "source": [
        "Now Let's set up the simulations. The wavelengths are from 1300 nm to 1500 nm and there is a very sharp peak around 1450 nm, so we simulate for a total of 450 wavelengths. The refractive indices are the same as the ones used in the referenced paper, which are 3.5 for the amorphous silicon (aSi_eps = $3.5^2$), 1.5 for the glass substrate (glass_eps = $1.5^2$), 1.4 for the encapsulation layer (encap_eps = $1.4^2$). "
      ],
      "metadata": {
        "id": "aMbmXOC6nJSP"
      }
    },
    {
      "cell_type": "code",
      "source": [
        "# dielectric constants\n",
        "aSi_eps = 3.5**2\n",
        "glass_eps = 1.5**2\n",
        "encap_eps = 1.4**2\n",
        "\n",
        "# wavelength\n",
        "lamba  = np.linspace(1300,1500,500)  # nm\n",
        "\n",
        "# geometry\n",
        "L = [880, 880]            # nm, period\n",
        "torcwa.rcwa_geo.dtype = geo_dtype\n",
        "torcwa.rcwa_geo.device = device\n",
        "torcwa.rcwa_geo.Lx = L[0]\n",
        "torcwa.rcwa_geo.Ly = L[1]\n",
        "torcwa.rcwa_geo.nx = 1000\n",
        "torcwa.rcwa_geo.ny = 1000\n",
        "torcwa.rcwa_geo.grid()\n",
        "torcwa.rcwa_geo.edge_sharpness = 1000.\n",
        "\n",
        "x_axis = torcwa.rcwa_geo.x.cpu()\n",
        "y_axis = torcwa.rcwa_geo.y.cpu()\n",
        "\n",
        "# layers\n",
        "Lx = 150. # length along the X axis, in nm\n",
        "Ly = 300. # width along the y axis, in nm\n",
        "dx = 380. # center to center separation axis of the two amosphous silicon nanobars\n",
        "geometry1 = torcwa.rcwa_geo.rectangle(Wx=Lx,Wy=Ly,Cx=L[0]/2.- dx/2,Cy=L[1]/2., theta=-20/180*np.pi) # cloclwise rotation angle wrt y axis\n",
        "geometry2 = torcwa.rcwa_geo.rectangle(Wx=Lx,Wy=Ly,Cx=L[0]/2.+ dx/2,Cy=L[1]/2., theta=20/180*np.pi)  # anticloclwise rotation angle wrt y axis\n",
        "layer0_geometry = torcwa.rcwa_geo.union(geometry1, geometry2)\n",
        "layer0_thickness = 450.\n",
        "encap_thickness = layer0_thickness + 30\n"
      ],
      "metadata": {
        "id": "3IsapTPCqBpv"
      },
      "execution_count": null,
      "outputs": []
    },
    {
      "cell_type": "markdown",
      "source": [
        "Plot to view the layer to make sure it is the desired structure."
      ],
      "metadata": {
        "id": "K43zQ7MSr1bt"
      }
    },
    {
      "cell_type": "code",
      "source": [
        "# View layers\n",
        "plt.figure(2)\n",
        "plt.imshow(torch.transpose(layer0_geometry,-2,-1).cpu(),origin='lower',extent=[x_axis[0],x_axis[-1],y_axis[0],y_axis[-1]])\n",
        "plt.title('Layer 0')\n",
        "plt.xlim([0,L[0]])\n",
        "plt.xlabel('x (nm)')\n",
        "plt.ylim([0,L[1]])\n",
        "plt.ylabel('y (nm)')\n",
        "plt.colorbar()\n",
        "plt.grid()\n",
        "plt.tight_layout()"
      ],
      "metadata": {
        "id": "v3VyVoKhr7c3",
        "colab": {
          "base_uri": "https://localhost:8080/",
          "height": 297
        },
        "outputId": "a3aa8668-574f-40dc-9f98-21960657ee09"
      },
      "execution_count": null,
      "outputs": [
        {
          "output_type": "display_data",
          "data": {
            "text/plain": [
              "<Figure size 432x288 with 2 Axes>"
            ],
            "image/png": "[encoded data removed]"
          },
          "metadata": {
            "needs_background": "light"
          }
        }
      ]
    },
    {
      "cell_type": "markdown",
      "source": [
        "Simulation domain"
      ],
      "metadata": {
        "id": "F7mxx8YbsRLM"
      }
    },
    {
      "cell_type": "code",
      "source": [
        "# Generate and perform simulation\n",
        "order_Nx = 10 # Fourier truncation order\n",
        "order_Ny = 10\n",
        "order = [order_Nx,order_Ny]\n",
        "lamb0 = torch.tensor(lamba,dtype=geo_dtype,device=device) #Wavelength in nm\n",
        "#%%\n",
        "# Simulation environment\n",
        "# light\n",
        "start_time = time.time()\n",
        "inc_ang = 0.*(np.pi/180)    # radian\n",
        "azi_ang = 0.*(np.pi/180)    # radian\n",
        "input_eps = 1**2  # air\n",
        "\n",
        "t_xx = []\n",
        "\n",
        "k = 0\n",
        "\n",
        "\n",
        "for lamb0_ind in range(len(lamb0)):\n",
        "\n",
        "    lamb0_now = lamb0[lamb0_ind]\n",
        "    sim = torcwa.rcwa(freq=1/lamb0_now,order=order,L=L,dtype=sim_dtype,device=device)\n",
        "    sim.add_input_layer(eps=input_eps)\n",
        "    #silicon_eps = eps_cSi(lamb0_now.cpu()/1000)\n",
        "    sim.add_output_layer(eps=glass_eps)\n",
        "    \n",
        "    sim.set_incident_angle(inc_ang=inc_ang,azi_ang=azi_ang)\n",
        "    \n",
        "    layer0_eps = layer0_geometry*encap_eps + (1.-layer0_geometry)\n",
        "    layer1_eps = layer0_geometry*aSi_eps + (1.-layer0_geometry)\n",
        "    \n",
        "    sim.add_layer(thickness=encap_thickness, eps=encap_eps)\n",
        "    sim.add_layer(thickness=layer0_thickness, eps=layer1_eps)\n",
        "    \n",
        "    \n",
        "    sim.solve_global_smatrix()\n",
        "    t_xx.append(sim.S_parameters(orders=[0,0],direction='forward',port='transmission',polarization='pp',ref_order=[0,0]))\n",
        "    print(format(lamb0_now.cpu().numpy()),format(torch.abs(t_xx[k]).cpu().numpy()))\n",
        "    k=k+1\n",
        "    \n",
        "t_xx = torch.cat(t_xx)"
      ],
      "metadata": {
        "id": "7dRYpDo4se0-",
        "colab": {
          "base_uri": "https://localhost:8080/"
        },
        "outputId": "8e541a32-13ad-42b1-f634-8b2a8afe688d"
      },
      "execution_count": null,
      "outputs": [
        {
          "output_type": "stream",
          "name": "stdout",
          "text": [
            "1300.0 [0.8709572]\n",
            "1300.4007568359375 [0.87214017]\n",
            "1300.8016357421875 [0.8732248]\n",
            "1301.202392578125 [0.87460023]\n",
            "1301.6031494140625 [0.8756129]\n",
            "1302.0040283203125 [0.8766993]\n",
            "1302.40478515625 [0.87796915]\n",
            "1302.8056640625 [0.8793846]\n",
            "1303.2064208984375 [0.8804279]\n",
            "1303.607177734375 [0.8814735]\n",
            "1304.008056640625 [0.8828202]\n",
            "1304.4088134765625 [0.8840725]\n",
            "1304.8095703125 [0.8854107]\n",
            "1305.21044921875 [0.88685215]\n",
            "1305.6112060546875 [0.8884382]\n",
            "1306.0120849609375 [0.88947964]\n",
            "1306.412841796875 [0.89078563]\n",
            "1306.8135986328125 [0.89253134]\n",
            "1307.2144775390625 [0.8936219]\n",
            "1307.615234375 [0.89536697]\n",
            "1308.0159912109375 [0.8968319]\n",
            "1308.4168701171875 [0.8982499]\n",
            "1308.817626953125 [0.8997394]\n",
            "1309.2183837890625 [0.90139776]\n",
            "1309.6192626953125 [0.90307105]\n",
            "1310.02001953125 [0.9048808]\n",
            "1310.4208984375 [0.90629655]\n",
            "1310.8216552734375 [0.9079443]\n",
            "1311.222412109375 [0.91008824]\n",
            "1311.623291015625 [0.9115225]\n",
            "1312.0240478515625 [0.91371256]\n",
            "1312.4248046875 [0.9156424]\n",
            "1312.82568359375 [0.91739136]\n",
            "1313.2264404296875 [0.9196404]\n",
            "1313.627197265625 [0.92173475]\n",
            "1314.028076171875 [0.92413414]\n",
            "1314.4288330078125 [0.9262785]\n",
            "1314.8297119140625 [0.9288481]\n",
            "1315.23046875 [0.93132174]\n",
            "1315.6312255859375 [0.9337599]\n",
            "1316.0321044921875 [0.93675566]\n",
            "1316.432861328125 [0.939124]\n",
            "1316.8336181640625 [0.94288915]\n",
            "1317.2344970703125 [0.9461554]\n",
            "1317.63525390625 [0.9496471]\n",
            "1318.0361328125 [0.95352745]\n",
            "1318.4368896484375 [0.9578487]\n",
            "1318.837646484375 [0.96303594]\n",
            "1319.238525390625 [0.9692176]\n",
            "1319.6392822265625 [0.9777098]\n",
            "1320.0400390625 [0.9952731]\n",
            "1320.44091796875 [0.9938779]\n",
            "1320.8416748046875 [0.99329275]\n",
            "1321.242431640625 [0.99270797]\n",
            "1321.643310546875 [0.99226373]\n",
            "1322.0440673828125 [0.9917936]\n",
            "1322.4449462890625 [0.9915458]\n",
            "1322.845703125 [0.9912866]\n",
            "1323.2464599609375 [0.99094486]\n",
            "1323.6473388671875 [0.9907229]\n",
            "1324.048095703125 [0.99038684]\n",
            "1324.4488525390625 [0.99029756]\n",
            "1324.8497314453125 [0.99004257]\n",
            "1325.25048828125 [0.98982275]\n",
            "1325.6512451171875 [0.98973376]\n",
            "1326.0521240234375 [0.98960483]\n",
            "1326.452880859375 [0.98927057]\n",
            "1326.853759765625 [0.9892693]\n",
            "1327.2545166015625 [0.9889992]\n",
            "1327.6552734375 [0.98900574]\n",
            "1328.05615234375 [0.9890012]\n",
            "1328.4569091796875 [0.9886804]\n",
            "1328.857666015625 [0.9886042]\n",
            "1329.258544921875 [0.9885501]\n",
            "1329.6593017578125 [0.98846143]\n",
            "1330.0601806640625 [0.98841757]\n",
            "1330.4609375 [0.9881962]\n",
            "1330.8616943359375 [0.98810554]\n",
            "1331.2625732421875 [0.9880775]\n",
            "1331.663330078125 [0.9880428]\n",
            "1332.0640869140625 [0.9879262]\n",
            "1332.4649658203125 [0.98783237]\n",
            "1332.86572265625 [0.9878005]\n",
            "1333.2664794921875 [0.98768103]\n",
            "1333.6673583984375 [0.98781943]\n",
            "1334.068115234375 [0.98769695]\n",
            "1334.468994140625 [0.9875655]\n",
            "1334.8697509765625 [0.9875718]\n",
            "1335.2705078125 [0.98755777]\n",
            "1335.67138671875 [0.98739135]\n",
            "1336.0721435546875 [0.98743254]\n",
            "1336.472900390625 [0.98740566]\n",
            "1336.873779296875 [0.9873655]\n",
            "1337.2745361328125 [0.98734254]\n",
            "1337.67529296875 [0.98733395]\n",
            "1338.076171875 [0.9872868]\n",
            "1338.4769287109375 [0.98733884]\n",
            "1338.8778076171875 [0.9872453]\n",
            "1339.278564453125 [0.98711616]\n",
            "1339.6793212890625 [0.98714966]\n",
            "1340.0802001953125 [0.9871221]\n",
            "1340.48095703125 [0.98714167]\n",
            "1340.8817138671875 [0.9871229]\n",
            "1341.2825927734375 [0.98707366]\n",
            "1341.683349609375 [0.98717505]\n",
            "1342.084228515625 [0.98707074]\n",
            "1342.4849853515625 [0.987182]\n",
            "1342.8857421875 [0.9870714]\n",
            "1343.28662109375 [0.9870965]\n",
            "1343.6873779296875 [0.9870759]\n",
            "1344.088134765625 [0.98704606]\n",
            "1344.489013671875 [0.9870994]\n",
            "1344.8897705078125 [0.9870631]\n",
            "1345.29052734375 [0.9871238]\n",
            "1345.69140625 [0.9870701]\n",
            "1346.0921630859375 [0.9870967]\n",
            "1346.4930419921875 [0.98710656]\n",
            "1346.893798828125 [0.98702514]\n",
            "1347.2945556640625 [0.9870885]\n",
            "1347.6954345703125 [0.98709697]\n",
            "1348.09619140625 [0.9871519]\n",
            "1348.4969482421875 [0.9871261]\n",
            "1348.8978271484375 [0.987174]\n",
            "1349.298583984375 [0.98718584]\n",
            "1349.6993408203125 [0.98715574]\n",
            "1350.1002197265625 [0.98716277]\n",
            "1350.5009765625 [0.98716587]\n",
            "1350.90185546875 [0.9872189]\n",
            "1351.3026123046875 [0.98717886]\n",
            "1351.703369140625 [0.9872197]\n",
            "1352.104248046875 [0.9872803]\n",
            "1352.5050048828125 [0.98721045]\n",
            "1352.90576171875 [0.9872989]\n",
            "1353.306640625 [0.9872598]\n",
            "1353.7073974609375 [0.98734206]\n",
            "1354.1082763671875 [0.98738086]\n",
            "1354.509033203125 [0.98739946]\n",
            "1354.9097900390625 [0.9873577]\n",
            "1355.3106689453125 [0.98743135]\n",
            "1355.71142578125 [0.98743355]\n",
            "1356.1121826171875 [0.98742163]\n",
            "1356.5130615234375 [0.98743075]\n",
            "1356.913818359375 [0.98749477]\n",
            "1357.3145751953125 [0.98753566]\n",
            "1357.7154541015625 [0.9875693]\n",
            "1358.1162109375 [0.9875878]\n",
            "1358.51708984375 [0.9875825]\n",
            "1358.9178466796875 [0.98764354]\n",
            "1359.318603515625 [0.98769003]\n",
            "1359.719482421875 [0.9876348]\n",
            "1360.1202392578125 [0.98770756]\n",
            "1360.52099609375 [0.987748]\n",
            "1360.921875 [0.98780227]\n",
            "1361.3226318359375 [0.9877981]\n",
            "1361.723388671875 [0.98785937]\n",
            "1362.124267578125 [0.9878445]\n",
            "1362.5250244140625 [0.9879246]\n",
            "1362.9259033203125 [0.9879093]\n",
            "1363.32666015625 [0.988002]\n",
            "1363.7274169921875 [0.9879899]\n",
            "1364.1282958984375 [0.9880141]\n",
            "1364.529052734375 [0.9880579]\n",
            "1364.9298095703125 [0.9881173]\n",
            "1365.3306884765625 [0.9881184]\n",
            "1365.7314453125 [0.9880944]\n",
            "1366.13232421875 [0.98818845]\n",
            "1366.5330810546875 [0.9882247]\n",
            "1366.933837890625 [0.9881895]\n",
            "1367.334716796875 [0.9882764]\n",
            "1367.7354736328125 [0.9882865]\n",
            "1368.13623046875 [0.9884056]\n",
            "1368.537109375 [0.98845917]\n",
            "1368.9378662109375 [0.98842204]\n",
            "1369.338623046875 [0.98850477]\n",
            "1369.739501953125 [0.98849225]\n",
            "1370.1402587890625 [0.9885633]\n",
            "1370.5411376953125 [0.98861694]\n",
            "1370.94189453125 [0.98863906]\n",
            "1371.3426513671875 [0.9886826]\n",
            "1371.7435302734375 [0.98864293]\n",
            "1372.144287109375 [0.9888167]\n",
            "1372.5450439453125 [0.98879826]\n",
            "1372.9459228515625 [0.9888143]\n",
            "1373.3466796875 [0.98881155]\n",
            "1373.7474365234375 [0.9889199]\n",
            "1374.1483154296875 [0.9889099]\n",
            "1374.549072265625 [0.98897976]\n",
            "1374.949951171875 [0.98900044]\n",
            "1375.3507080078125 [0.98912907]\n",
            "1375.75146484375 [0.9891116]\n",
            "1376.15234375 [0.98915917]\n",
            "1376.5531005859375 [0.9891302]\n",
            "1376.953857421875 [0.9892109]\n",
            "1377.354736328125 [0.9892987]\n",
            "1377.7554931640625 [0.9892918]\n",
            "1378.1563720703125 [0.98936456]\n",
            "1378.55712890625 [0.9893616]\n",
            "1378.9578857421875 [0.9894631]\n",
            "1379.3587646484375 [0.9894762]\n",
            "1379.759521484375 [0.9894479]\n",
            "1380.1602783203125 [0.989493]\n",
            "1380.5611572265625 [0.9895485]\n",
            "1380.9619140625 [0.98964995]\n",
            "1381.3626708984375 [0.9897404]\n",
            "1381.7635498046875 [0.9896846]\n",
            "1382.164306640625 [0.98975456]\n",
            "1382.565185546875 [0.9898026]\n",
            "1382.9659423828125 [0.98989356]\n",
            "1383.36669921875 [0.9898794]\n",
            "1383.767578125 [0.98995125]\n",
            "1384.1683349609375 [0.9899912]\n",
            "1384.569091796875 [0.9900736]\n",
            "1384.969970703125 [0.9899733]\n",
            "1385.3707275390625 [0.99015737]\n",
            "1385.771484375 [0.9901646]\n",
            "1386.17236328125 [0.9901819]\n",
            "1386.5731201171875 [0.99028933]\n",
            "1386.9739990234375 [0.99030626]\n",
            "1387.374755859375 [0.9902784]\n",
            "1387.7755126953125 [0.99038434]\n",
            "1388.1763916015625 [0.99039227]\n",
            "1388.5771484375 [0.9904316]\n",
            "1388.9779052734375 [0.99053186]\n",
            "1389.3787841796875 [0.99059635]\n",
            "1389.779541015625 [0.9905781]\n",
            "1390.180419921875 [0.9906624]\n",
            "1390.5811767578125 [0.9906758]\n",
            "1390.98193359375 [0.99076974]\n",
            "1391.3828125 [0.99081534]\n",
            "1391.7835693359375 [0.9908212]\n",
            "1392.184326171875 [0.9908368]\n",
            "1392.585205078125 [0.9909663]\n",
            "1392.9859619140625 [0.99099773]\n",
            "1393.38671875 [0.9910018]\n",
            "1393.78759765625 [0.9910224]\n",
            "1394.1883544921875 [0.9910554]\n",
            "1394.5892333984375 [0.9911353]\n",
            "1394.989990234375 [0.99119633]\n",
            "1395.3907470703125 [0.99122316]\n",
            "1395.7916259765625 [0.99128187]\n",
            "1396.1923828125 [0.9913082]\n",
            "1396.5931396484375 [0.9913397]\n",
            "1396.9940185546875 [0.99144435]\n",
            "1397.394775390625 [0.9914361]\n",
            "1397.7955322265625 [0.9915082]\n",
            "1398.1964111328125 [0.99146533]\n",
            "1398.59716796875 [0.99158037]\n",
            "1398.998046875 [0.99162036]\n",
            "1399.3988037109375 [0.99170756]\n",
            "1399.799560546875 [0.9917045]\n",
            "1400.200439453125 [0.991805]\n",
            "1400.6011962890625 [0.99183494]\n",
            "1401.001953125 [0.9918369]\n",
            "1401.40283203125 [0.9919005]\n",
            "1401.8035888671875 [0.99194455]\n",
            "1402.2044677734375 [0.991964]\n",
            "1402.605224609375 [0.99205667]\n",
            "1403.0059814453125 [0.9920966]\n",
            "1403.4068603515625 [0.9921791]\n",
            "1403.8076171875 [0.99220014]\n",
            "1404.2083740234375 [0.9921964]\n",
            "1404.6092529296875 [0.99228597]\n",
            "1405.010009765625 [0.9922883]\n",
            "1405.4107666015625 [0.9923899]\n",
            "1405.8116455078125 [0.9924322]\n",
            "1406.21240234375 [0.992411]\n",
            "1406.61328125 [0.9924706]\n",
            "1407.0140380859375 [0.9926115]\n",
            "1407.414794921875 [0.992623]\n",
            "1407.815673828125 [0.9926172]\n",
            "1408.2164306640625 [0.992684]\n",
            "1408.6171875 [0.99269855]\n",
            "1409.01806640625 [0.9927634]\n",
            "1409.4188232421875 [0.9927868]\n",
            "1409.819580078125 [0.9928734]\n",
            "1410.220458984375 [0.9928734]\n",
            "1410.6212158203125 [0.99293053]\n",
            "1411.0220947265625 [0.9930032]\n",
            "1411.4228515625 [0.99302846]\n",
            "1411.8236083984375 [0.9931038]\n",
            "1412.2244873046875 [0.99312454]\n",
            "1412.625244140625 [0.9931791]\n",
            "1413.0260009765625 [0.9931639]\n",
            "1413.4268798828125 [0.993273]\n",
            "1413.82763671875 [0.99332356]\n",
            "1414.228515625 [0.9932731]\n",
            "1414.6292724609375 [0.9933578]\n",
            "1415.030029296875 [0.9934265]\n",
            "1415.430908203125 [0.9935017]\n",
            "1415.8316650390625 [0.99362564]\n",
            "1416.232421875 [0.9935049]\n",
            "1416.63330078125 [0.99354404]\n",
            "1417.0340576171875 [0.9936292]\n",
            "1417.434814453125 [0.993679]\n",
            "1417.835693359375 [0.99370515]\n",
            "1418.2364501953125 [0.99376726]\n",
            "1418.6373291015625 [0.99381167]\n",
            "1419.0380859375 [0.9938933]\n",
            "1419.4388427734375 [0.99390125]\n",
            "1419.8397216796875 [0.99392956]\n",
            "1420.240478515625 [0.9939913]\n",
            "1420.6412353515625 [0.9941195]\n",
            "1421.0421142578125 [0.99411535]\n",
            "1421.44287109375 [0.99414426]\n",
            "1421.8436279296875 [0.9941739]\n",
            "1422.2445068359375 [0.9941851]\n",
            "1422.645263671875 [0.9942439]\n",
            "1423.046142578125 [0.99427277]\n",
            "1423.4468994140625 [0.99430853]\n",
            "1423.84765625 [0.9944065]\n",
            "1424.24853515625 [0.9944633]\n",
            "1424.6492919921875 [0.994491]\n",
            "1425.050048828125 [0.9945615]\n",
            "1425.450927734375 [0.99452275]\n",
            "1425.8516845703125 [0.9946048]\n",
            "1426.2525634765625 [0.99467134]\n",
            "1426.6533203125 [0.9946763]\n",
            "1427.0540771484375 [0.9946975]\n",
            "1427.4549560546875 [0.9947984]\n",
            "1427.855712890625 [0.9948198]\n",
            "1428.2564697265625 [0.9947911]\n",
            "1428.6573486328125 [0.9949042]\n",
            "1429.05810546875 [0.99495506]\n",
            "1429.4588623046875 [0.99502397]\n",
            "1429.8597412109375 [0.99500483]\n",
            "1430.260498046875 [0.9950535]\n",
            "1430.661376953125 [0.9950694]\n",
            "1431.0621337890625 [0.9951667]\n",
            "1431.462890625 [0.9952296]\n",
            "1431.86376953125 [0.9952593]\n",
            "1432.2645263671875 [0.9952448]\n",
            "1432.665283203125 [0.9953443]\n",
            "1433.066162109375 [0.99531084]\n",
            "1433.4669189453125 [0.9954693]\n",
            "1433.86767578125 [0.9954239]\n",
            "1434.2685546875 [0.99550194]\n",
            "1434.6693115234375 [0.9955383]\n",
            "1435.0701904296875 [0.99562806]\n",
            "1435.470947265625 [0.995628]\n",
            "1435.8717041015625 [0.99562997]\n",
            "1436.2725830078125 [0.995639]\n",
            "1436.67333984375 [0.9957098]\n",
            "1437.0740966796875 [0.99577767]\n",
            "1437.4749755859375 [0.99588096]\n",
            "1437.875732421875 [0.99585015]\n",
            "1438.276611328125 [0.9958552]\n",
            "1438.6773681640625 [0.9959526]\n",
            "1439.078125 [0.99593115]\n",
            "1439.47900390625 [0.99602866]\n",
            "1439.8797607421875 [0.9960384]\n",
            "1440.280517578125 [0.9961121]\n",
            "1440.681396484375 [0.9961602]\n",
            "1441.0821533203125 [0.99614435]\n",
            "1441.48291015625 [0.9962681]\n",
            "1441.8837890625 [0.9962568]\n",
            "1442.2845458984375 [0.99627596]\n",
            "1442.6854248046875 [0.9963526]\n",
            "1443.086181640625 [0.99638164]\n",
            "1443.4869384765625 [0.99646556]\n",
            "1443.8878173828125 [0.99641097]\n",
            "1444.28857421875 [0.9964743]\n",
            "1444.6893310546875 [0.9965674]\n",
            "1445.0902099609375 [0.9966143]\n",
            "1445.490966796875 [0.9966127]\n",
            "1445.8917236328125 [0.99670345]\n",
            "1446.2926025390625 [0.9966821]\n",
            "1446.693359375 [0.99674624]\n",
            "1447.09423828125 [0.9967826]\n",
            "1447.4949951171875 [0.99683416]\n",
            "1447.895751953125 [0.9968625]\n",
            "1448.296630859375 [0.9969492]\n",
            "1448.6973876953125 [0.9969708]\n",
            "1449.09814453125 [0.9969638]\n",
            "1449.4990234375 [0.99698603]\n",
            "1449.8997802734375 [0.9970537]\n",
            "1450.3006591796875 [0.9971584]\n",
            "1450.701416015625 [0.9971835]\n",
            "1451.1021728515625 [0.9972152]\n",
            "1451.5030517578125 [0.99721867]\n",
            "1451.90380859375 [0.99732447]\n",
            "1452.3045654296875 [0.99737364]\n",
            "1452.7054443359375 [0.9974018]\n",
            "1453.106201171875 [0.99746954]\n",
            "1453.5069580078125 [0.99749994]\n",
            "1453.9078369140625 [0.997463]\n",
            "1454.30859375 [0.99765176]\n",
            "1454.70947265625 [0.9976212]\n",
            "1455.1102294921875 [0.9976943]\n",
            "1455.510986328125 [0.9976989]\n",
            "1455.911865234375 [0.99780107]\n",
            "1456.3126220703125 [0.99782]\n",
            "1456.71337890625 [0.99788594]\n",
            "1457.1142578125 [0.997944]\n",
            "1457.5150146484375 [0.99801785]\n",
            "1457.915771484375 [0.99798393]\n",
            "1458.316650390625 [0.9980933]\n",
            "1458.7174072265625 [0.9981385]\n",
            "1459.1182861328125 [0.9982057]\n",
            "1459.51904296875 [0.9982329]\n",
            "1459.9197998046875 [0.9983579]\n",
            "1460.3206787109375 [0.9984183]\n",
            "1460.721435546875 [0.99837995]\n",
            "1461.1221923828125 [0.9984096]\n",
            "1461.5230712890625 [0.99864453]\n",
            "1461.923828125 [0.9985911]\n",
            "1462.32470703125 [0.99861664]\n",
            "1462.7254638671875 [0.99870175]\n",
            "1463.126220703125 [0.9987262]\n",
            "1463.527099609375 [0.9987724]\n",
            "1463.9278564453125 [0.9987108]\n",
            "1464.32861328125 [0.9986901]\n",
            "1464.7294921875 [0.9983406]\n",
            "1465.1302490234375 [0.9979504]\n",
            "1465.531005859375 [0.996943]\n",
            "1465.931884765625 [0.99439603]\n",
            "1466.3326416015625 [0.9886901]\n",
            "1466.7335205078125 [0.96814513]\n",
            "1467.13427734375 [0.8412166]\n",
            "1467.5350341796875 [0.44580695]\n",
            "1467.9359130859375 [0.90358394]\n",
            "1468.336669921875 [0.96130955]\n",
            "1468.7374267578125 [0.97735524]\n",
            "1469.1383056640625 [0.9844379]\n",
            "1469.5390625 [0.9882983]\n",
            "1469.9398193359375 [0.99033403]\n",
            "1470.3406982421875 [0.9918823]\n",
            "1470.741455078125 [0.9928868]\n",
            "1471.142333984375 [0.99370646]\n",
            "1471.5430908203125 [0.994277]\n",
            "1471.94384765625 [0.9947585]\n",
            "1472.3447265625 [0.9951257]\n",
            "1472.7454833984375 [0.9954742]\n",
            "1473.146240234375 [0.99575007]\n",
            "1473.547119140625 [0.99594045]\n",
            "1473.9478759765625 [0.9961452]\n",
            "1474.3487548828125 [0.9962945]\n",
            "1474.74951171875 [0.99653745]\n",
            "1475.1502685546875 [0.99659425]\n",
            "1475.5511474609375 [0.9967322]\n",
            "1475.951904296875 [0.9968875]\n",
            "1476.3526611328125 [0.9969333]\n",
            "1476.7535400390625 [0.9970801]\n",
            "1477.154296875 [0.9971375]\n",
            "1477.5550537109375 [0.9972482]\n",
            "1477.9559326171875 [0.99727696]\n",
            "1478.356689453125 [0.9973815]\n",
            "1478.757568359375 [0.9974835]\n",
            "1479.1583251953125 [0.997531]\n",
            "1479.55908203125 [0.99756527]\n",
            "1479.9599609375 [0.9975931]\n",
            "1480.3607177734375 [0.9977]\n",
            "1480.761474609375 [0.997736]\n",
            "1481.162353515625 [0.9977793]\n",
            "1481.5631103515625 [0.9978256]\n",
            "1481.9638671875 [0.99785024]\n",
            "1482.36474609375 [0.99787724]\n",
            "1482.7655029296875 [0.99795544]\n",
            "1483.1663818359375 [0.9979585]\n",
            "1483.567138671875 [0.9980864]\n",
            "1483.9678955078125 [0.9980639]\n",
            "1484.3687744140625 [0.9980709]\n",
            "1484.76953125 [0.9981542]\n",
            "1485.1702880859375 [0.9982083]\n",
            "1485.5711669921875 [0.998242]\n",
            "1485.971923828125 [0.9982155]\n",
            "1486.372802734375 [0.99827737]\n",
            "1486.7735595703125 [0.9983425]\n",
            "1487.17431640625 [0.99836653]\n",
            "1487.5751953125 [0.9984051]\n",
            "1487.9759521484375 [0.9984593]\n",
            "1488.376708984375 [0.9983946]\n",
            "1488.777587890625 [0.998467]\n",
            "1489.1783447265625 [0.99851185]\n",
            "1489.5791015625 [0.9984667]\n",
            "1489.97998046875 [0.9985223]\n",
            "1490.3807373046875 [0.99859875]\n",
            "1490.7816162109375 [0.9985758]\n",
            "1491.182373046875 [0.998632]\n",
            "1491.5831298828125 [0.99867755]\n",
            "1491.9840087890625 [0.99865246]\n",
            "1492.384765625 [0.99864024]\n",
            "1492.7855224609375 [0.9987178]\n",
            "1493.1864013671875 [0.9987483]\n",
            "1493.587158203125 [0.9987318]\n",
            "1493.9879150390625 [0.99876887]\n",
            "1494.3887939453125 [0.99883616]\n",
            "1494.78955078125 [0.99874717]\n",
            "1495.1904296875 [0.9988178]\n",
            "1495.5911865234375 [0.9988449]\n",
            "1495.991943359375 [0.99885184]\n",
            "1496.392822265625 [0.9989056]\n",
            "1496.7935791015625 [0.99888855]\n",
            "1497.1943359375 [0.9989008]\n",
            "1497.59521484375 [0.99890506]\n",
            "1497.9959716796875 [0.99895984]\n",
            "1498.3968505859375 [0.9989199]\n",
            "1498.797607421875 [0.99895835]\n",
            "1499.1983642578125 [0.9989629]\n",
            "1499.5992431640625 [0.99901366]\n",
            "1500.0 [0.9990472]\n"
          ]
        }
      ]
    },
    {
      "cell_type": "markdown",
      "source": [
        "now plot to visialize the results"
      ],
      "metadata": {
        "id": "oxs_4pmYsjEi"
      }
    },
    {
      "cell_type": "code",
      "source": [
        "plt.figure(3)\n",
        "plt.plot(lamb0.cpu(),torch.abs(t_xx).cpu()**2,'b-')\n",
        "plt.title('trans (order: '+str(order_Nx)+')')\n",
        "plt.xlabel('Wavelength (um)')\n",
        "plt.ylabel('Transmitance (a.u.)')\n",
        "plt.grid()\n",
        "plt.tight_layout()\n",
        "plt.legend(['TM'])"
      ],
      "metadata": {
        "id": "w0NliISqsmGS",
        "colab": {
          "base_uri": "https://localhost:8080/",
          "height": 314
        },
        "outputId": "32ebdaa4-1939-4c48-faa3-6622a73d28a6"
      },
      "execution_count": null,
      "outputs": [
        {
          "output_type": "execute_result",
          "data": {
            "text/plain": [
              "<matplotlib.legend.Legend at 0x7fdd384622b0>"
            ]
          },
          "metadata": {},
          "execution_count": 12
        },
        {
          "output_type": "display_data",
          "data": {
            "text/plain": [
              "<Figure size 432x288 with 1 Axes>"
            ],
            "image/png": "[encoded data removed]"
          },
          "metadata": {
            "needs_background": "light"
          }
        }
      ]
    },
    {
      "cell_type": "markdown",
      "source": [
        "No plot to visulaize the the simulations done for the structure. "
      ],
      "metadata": {
        "id": "45AydDhItT2P"
      }
    },
    {
      "cell_type": "code",
      "source": [
        "eps_r= sim.return_layer(layer_num=1, nx=2000, ny=2000)\n",
        "x1=eps_r[0]\n",
        "x2=eps_r[1]\n",
        "\n",
        "plt.figure(5)\n",
        "#plt.title('Layer 0')\n",
        "#cax = plt.axes([0.1, 0, 0.8, 0.01]) #Left,bottom, length, width\n",
        "#clb=plt.colorbar(cax=cax,orientation=\"vertical\")\n",
        "plt.imshow(torch.transpose(torch.real(x1),-2,-1).cpu(),origin='lower',cmap='RdBu',\n",
        "           extent=[x_axis[0],x_axis[-1],y_axis[0],y_axis[-1]],aspect=L[1]/L[0])\n",
        "plt.xlabel('x (nm)')\n",
        "plt.ylabel('y (nm)')\n",
        "plt.colorbar(location='top', shrink=0.5, aspect=20, anchor=(0.5,0.3),pad=0.0,label='eps_r')"
      ],
      "metadata": {
        "id": "YKkqLp-itej6",
        "colab": {
          "base_uri": "https://localhost:8080/",
          "height": 307
        },
        "outputId": "307c0c4c-dab0-490b-f6f6-23953625ca1e"
      },
      "execution_count": null,
      "outputs": [
        {
          "output_type": "execute_result",
          "data": {
            "text/plain": [
              "<matplotlib.colorbar.Colorbar at 0x7fdd384c10a0>"
            ]
          },
          "metadata": {},
          "execution_count": 10
        },
        {
          "output_type": "display_data",
          "data": {
            "text/plain": [
              "<Figure size 432x288 with 2 Axes>"
            ],
            "image/png": "[encoded data removed]"
          },
          "metadata": {
            "needs_background": "light"
          }
        }
      ]
    }
  ]
}