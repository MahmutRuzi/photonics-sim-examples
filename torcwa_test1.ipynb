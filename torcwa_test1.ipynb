{
  "nbformat": 4,
  "nbformat_minor": 0,
  "metadata": {
    "colab": {
      "provenance": [],
      "mount_file_id": "1bEAujdNhz6jSglhh7cj2X_BgIpW-CvQN",
      "authorship_tag": "ABX9TyPYxtmA8xhke2/pPeGixn9F",
      "include_colab_link": true
    },
    "kernelspec": {
      "name": "python3",
      "display_name": "Python 3"
    },
    "language_info": {
      "name": "python"
    },
    "accelerator": "GPU",
    "gpuClass": "standard"
  },
  "cells": [
    {
      "cell_type": "markdown",
      "metadata": {
        "id": "view-in-github",
        "colab_type": "text"
      },
      "source": [
        "<a href=\"https://colab.research.google.com/github/MahmutRuzi/photonics-sim-examples/blob/main/torcwa_test1.ipynb\" target=\"_parent\"><img src=\"https://colab.research.google.com/assets/colab-badge.svg\" alt=\"Open In Colab\"/></a>"
      ]
    },
    {
      "cell_type": "code",
      "source": [
        "import torch\n",
        "torch.cuda.is_available()"
      ],
      "metadata": {
        "id": "AIMwd74o3cj1",
        "colab": {
          "base_uri": "https://localhost:8080/"
        },
        "outputId": "9da5cba0-7563-46da-efac-4a7cb54bc567"
      },
      "execution_count": 16,
      "outputs": [
        {
          "output_type": "execute_result",
          "data": {
            "text/plain": [
              "True"
            ]
          },
          "metadata": {},
          "execution_count": 16
        }
      ]
    },
    {
      "cell_type": "code",
      "source": [
        "!nvidia-smi"
      ],
      "metadata": {
        "colab": {
          "base_uri": "https://localhost:8080/"
        },
        "id": "hihm4BBL5N4X",
        "outputId": "2a1c8e17-8eb4-4b84-ca00-0642e67383ee"
      },
      "execution_count": 17,
      "outputs": [
        {
          "output_type": "stream",
          "name": "stdout",
          "text": [
            "Fri Dec 23 08:57:36 2022       \n",
            "+-----------------------------------------------------------------------------+\n",
            "| NVIDIA-SMI 460.32.03    Driver Version: 460.32.03    CUDA Version: 11.2     |\n",
            "|-------------------------------+----------------------+----------------------+\n",
            "| GPU  Name        Persistence-M| Bus-Id        Disp.A | Volatile Uncorr. ECC |\n",
            "| Fan  Temp  Perf  Pwr:Usage/Cap|         Memory-Usage | GPU-Util  Compute M. |\n",
            "|                               |                      |               MIG M. |\n",
            "|===============================+======================+======================|\n",
            "|   0  Tesla T4            Off  | 00000000:00:04.0 Off |                    0 |\n",
            "| N/A   51C    P8    10W /  70W |      3MiB / 15109MiB |      0%      Default |\n",
            "|                               |                      |                  N/A |\n",
            "+-------------------------------+----------------------+----------------------+\n",
            "                                                                               \n",
            "+-----------------------------------------------------------------------------+\n",
            "| Processes:                                                                  |\n",
            "|  GPU   GI   CI        PID   Type   Process name                  GPU Memory |\n",
            "|        ID   ID                                                   Usage      |\n",
            "|=============================================================================|\n",
            "|  No running processes found                                                 |\n",
            "+-----------------------------------------------------------------------------+\n"
          ]
        }
      ]
    },
    {
      "cell_type": "code",
      "source": [
        "!pip3 install torcwa"
      ],
      "metadata": {
        "colab": {
          "base_uri": "https://localhost:8080/"
        },
        "id": "7uxkJ1h8zwtR",
        "outputId": "b4a7bc9e-eb02-4bfb-8d42-02016747b338"
      },
      "execution_count": 3,
      "outputs": [
        {
          "output_type": "stream",
          "name": "stdout",
          "text": [
            "Looking in indexes: https://pypi.org/simple, https://us-python.pkg.dev/colab-wheels/public/simple/\n",
            "Collecting torcwa\n",
            "  Downloading torcwa-0.1.3-py3-none-any.whl (12 kB)\n",
            "Requirement already satisfied: torch>=1.10.1 in /usr/local/lib/python3.8/dist-packages (from torcwa) (1.13.0+cu116)\n",
            "Requirement already satisfied: typing-extensions in /usr/local/lib/python3.8/dist-packages (from torch>=1.10.1->torcwa) (4.4.0)\n",
            "Installing collected packages: torcwa\n",
            "Successfully installed torcwa-0.1.3\n"
          ]
        }
      ]
    },
    {
      "cell_type": "code",
      "source": [
        "import torcwa\n",
        "print(torcwa.__version__)"
      ],
      "metadata": {
        "colab": {
          "base_uri": "https://localhost:8080/"
        },
        "id": "THOROLM_yJnC",
        "outputId": "51e3f473-0e92-410a-a98d-a33dfb2d6e06"
      },
      "execution_count": 4,
      "outputs": [
        {
          "output_type": "stream",
          "name": "stdout",
          "text": [
            "0.1.3\n"
          ]
        }
      ]
    },
    {
      "cell_type": "code",
      "source": [
        "import numpy as np"
      ],
      "metadata": {
        "id": "1rOy3DqOyTvy"
      },
      "execution_count": 5,
      "outputs": []
    },
    {
      "cell_type": "code",
      "source": [
        "%cd /content/drive/MyDrive/torcwa-runs/"
      ],
      "metadata": {
        "colab": {
          "base_uri": "https://localhost:8080/"
        },
        "id": "dstI4QGQyrr1",
        "outputId": "f1cd1306-e9dd-482e-eaba-3498ec318bd0"
      },
      "execution_count": 6,
      "outputs": [
        {
          "output_type": "stream",
          "name": "stdout",
          "text": [
            "/content/drive/MyDrive/torcwa-runs\n"
          ]
        }
      ]
    },
    {
      "cell_type": "code",
      "source": [
        "!ls"
      ],
      "metadata": {
        "colab": {
          "base_uri": "https://localhost:8080/"
        },
        "id": "9NNIr3S2zvGM",
        "outputId": "94a42833-1e1d-41e2-f9db-f88cd4b3f536"
      },
      "execution_count": 7,
      "outputs": [
        {
          "output_type": "stream",
          "name": "stdout",
          "text": [
            "Au_disk_v1-1.py\t\t      materials\t\t torcwa-test1.ipynb\n",
            "Au_nanobar_L870W230H70_v1.py  Si_nanodisk_v1.py\n",
            "colab_Au-nanobar_v1.ipynb     Si_nanodisk_v2.py\n"
          ]
        }
      ]
    },
    {
      "cell_type": "code",
      "source": [
        "refrat_cSi = np.genfromtxt(\"./materials/Au_Olmen2012.csv\", delimiter=',',skip_header=1, unpack=True)"
      ],
      "metadata": {
        "id": "nqjqju7Jz2P7"
      },
      "execution_count": 8,
      "outputs": []
    },
    {
      "cell_type": "code",
      "source": [
        "def eps_cSi(lamba0):\n",
        "    # lamba0 should be in um\n",
        "    n_interp = np.interp(lamba0, refrat_cSi[0,::], refrat_cSi[1,:])\n",
        "    k_interp = np.interp(lamba0, refrat_cSi[0,::], refrat_cSi[2,:])\n",
        "    epsr = n_interp**2-k_interp**2\n",
        "    epsi = 2*n_interp*k_interp\n",
        "    eps_cSi = epsr+1.0j*epsi\n",
        "    return eps_cSi\n",
        "\n",
        "#%%"
      ],
      "metadata": {
        "id": "-8Js-qdAz71d"
      },
      "execution_count": 10,
      "outputs": []
    },
    {
      "cell_type": "code",
      "source": [
        "lamba=10000./np.array([1250,1300,1350,1400,1450,1500,1550,1580,1600,1610,1620,1630,1640,1645,1650,1655,1660,1665,1670,1675,1680,1690,1700,1720,1750,1800,1850])"
      ],
      "metadata": {
        "id": "AQZ5Imrl0D5P"
      },
      "execution_count": 12,
      "outputs": []
    },
    {
      "cell_type": "code",
      "source": [
        "lamba.dtype"
      ],
      "metadata": {
        "colab": {
          "base_uri": "https://localhost:8080/"
        },
        "id": "ExN3A6_W1mnk",
        "outputId": "02d4b534-9b40-4289-8857-ee5eb5ad9dc8"
      },
      "execution_count": 13,
      "outputs": [
        {
          "output_type": "execute_result",
          "data": {
            "text/plain": [
              "dtype('float64')"
            ]
          },
          "metadata": {},
          "execution_count": 13
        }
      ]
    },
    {
      "cell_type": "code",
      "source": [
        "sim_dtype = torch.complex64\n",
        "geo_dtype = torch.float32\n",
        "device = torch.device('cuda')"
      ],
      "metadata": {
        "id": "kQFB41R40KwQ"
      },
      "execution_count": 18,
      "outputs": []
    },
    {
      "cell_type": "code",
      "source": [
        "import matplotlib.pyplot as plt\n",
        "# geometry\n",
        "L = [1750, 1750]            # nm / nm\n",
        "torcwa.rcwa_geo.dtype = geo_dtype\n",
        "torcwa.rcwa_geo.device = device\n",
        "torcwa.rcwa_geo.Lx = L[0]\n",
        "torcwa.rcwa_geo.Ly = L[1]\n",
        "torcwa.rcwa_geo.nx = 1750\n",
        "torcwa.rcwa_geo.ny = 1750\n",
        "torcwa.rcwa_geo.grid()\n",
        "torcwa.rcwa_geo.edge_sharpness = 1000.\n",
        "\n",
        "x_axis = torcwa.rcwa_geo.x.cpu()\n",
        "y_axis = torcwa.rcwa_geo.y.cpu()\n",
        "#z_axis = z.cpu()\n",
        "\n",
        "# layers\n",
        "Lx = 870. # length along the X axis, in nm\n",
        "Ly = 230. # width along the y axis, in nm\n",
        "layer0_geometry = torcwa.rcwa_geo.rectangle(Wx=Lx,Wy=Ly,Cx=L[0]/2.,Cy=L[1]/2.)\n",
        "layer0_thickness = 70.\n",
        "\n",
        "#%%\n",
        "# View layers\n",
        "plt.figure(2)\n",
        "plt.imshow(torch.transpose(layer0_geometry,-2,-1).cpu(),origin='lower',extent=[x_axis[0],x_axis[-1],y_axis[0],y_axis[-1]])\n",
        "plt.title('Layer 0')\n",
        "plt.xlim([0,L[0]])\n",
        "plt.xlabel('x (nm)')\n",
        "plt.ylim([0,L[1]])\n",
        "plt.ylabel('y (nm)')\n",
        "plt.colorbar()\n",
        "plt.grid()\n",
        "plt.tight_layout()\n"
      ],
      "metadata": {
        "colab": {
          "base_uri": "https://localhost:8080/",
          "height": 297
        },
        "id": "Ie4Cn8tt0TOB",
        "outputId": "c2ee7ca1-217d-45a5-b017-664f8e949293"
      },
      "execution_count": 19,
      "outputs": [
        {
          "output_type": "display_data",
          "data": {
            "text/plain": [
              "<Figure size 432x288 with 2 Axes>"
            ],
            "image/png": "[encoded data removed]"
          },
          "metadata": {
            "needs_background": "light"
          }
        }
      ]
    },
    {
      "cell_type": "code",
      "source": [
        "# Generate and perform simulation\n",
        "import time\n",
        "start_time = time.time()\n",
        "order_Nx = 10 # Fourier truncation order\n",
        "order_Ny = 5\n",
        "order = [order_Nx,order_Ny]\n",
        "lamb0 = torch.tensor(1000*lamba,dtype=geo_dtype,device=device) #Wavelength in nm\n",
        "#%%\n",
        "# Simulation environment\n",
        "# light\n",
        "start_time = time.time()\n",
        "inc_ang = 0.*(np.pi/180)    # radian\n",
        "azi_ang = 0.*(np.pi/180)    # radian\n",
        "substrate_eps = 3.41**2\n",
        "input_eps = 1**2\n",
        "txx = []\n",
        "rxx = []\n",
        "for lamb0_ind in range(len(lamb0)):\n",
        "    lamb0_now = lamb0[lamb0_ind]\n",
        "    print('Wavelength: {:g}'.format(lamb0_now))\n",
        "    sim = torcwa.rcwa(freq=1/lamb0_now,order=order,L=L,dtype=sim_dtype,device=device)\n",
        "    #sim.add_input_layer(eps=input_eps)\n",
        "    sim.add_output_layer(eps=substrate_eps)\n",
        "    sim.set_incident_angle(inc_ang=inc_ang,azi_ang=azi_ang)\n",
        "    silicon_eps = eps_cSi(lamb0_now.cpu()/1000)\n",
        "    layer0_eps = layer0_geometry*silicon_eps + (1.-layer0_geometry)\n",
        "    sim.add_layer(thickness=layer0_thickness,eps=layer0_eps)\n",
        "    sim.solve_global_smatrix()\n",
        "    rxx.append(sim.S_parameters(orders=[0,0],direction='forward',port='reflection',polarization='xx',ref_order=[0,0]))\n",
        "    txx.append(sim.S_parameters(orders=[0,0],direction='forward',port='transmission',polarization='xx',ref_order=[0,0]))\n",
        "txx = torch.cat(txx)\n",
        "rxx = torch.cat(rxx)\n",
        "print(\"--- %s seconds ---\" % (time.time() - start_time))\n"
      ],
      "metadata": {
        "colab": {
          "base_uri": "https://localhost:8080/"
        },
        "id": "lLMyNmtL0nje",
        "outputId": "6dee9ab7-212b-4cb1-82ce-7dbdc3cf5de6"
      },
      "execution_count": 21,
      "outputs": [
        {
          "output_type": "stream",
          "name": "stdout",
          "text": [
            "Wavelength: 8000\n",
            "Wavelength: 7692.31\n",
            "Wavelength: 7407.41\n",
            "Wavelength: 7142.86\n",
            "Wavelength: 6896.55\n",
            "Wavelength: 6666.67\n",
            "Wavelength: 6451.61\n",
            "Wavelength: 6329.11\n",
            "Wavelength: 6250\n",
            "Wavelength: 6211.18\n",
            "Wavelength: 6172.84\n",
            "Wavelength: 6134.97\n",
            "Wavelength: 6097.56\n",
            "Wavelength: 6079.03\n",
            "Wavelength: 6060.61\n",
            "Wavelength: 6042.3\n",
            "Wavelength: 6024.1\n",
            "Wavelength: 6006.01\n",
            "Wavelength: 5988.02\n",
            "Wavelength: 5970.15\n",
            "Wavelength: 5952.38\n",
            "Wavelength: 5917.16\n",
            "Wavelength: 5882.35\n",
            "Wavelength: 5813.95\n",
            "Wavelength: 5714.29\n",
            "Wavelength: 5555.56\n",
            "Wavelength: 5405.41\n",
            "--- 10.252070665359497 seconds ---\n"
          ]
        }
      ]
    },
    {
      "cell_type": "code",
      "source": [
        "plt.figure(3)\n",
        "plt.plot(1e7/lamb0.cpu(),torch.abs(txx).cpu()**2,'bo',1e7/lamb0.cpu(),torch.abs(rxx).cpu()**2,'ro')\n",
        "#plt.plot(lamb0.cpu()/1000,torch.abs(txx).cpu()**2,'b')\n",
        "plt.title('Ref/trans (order: '+str(order_Nx)+')')\n",
        "plt.xlabel('Wavenumber (cm-^1)')\n",
        "plt.ylabel('Transmittance/Reflectance (a.u.)')\n",
        "plt.grid()\n",
        "plt.tight_layout()"
      ],
      "metadata": {
        "colab": {
          "base_uri": "https://localhost:8080/",
          "height": 297
        },
        "id": "D7VEsVkE7g7T",
        "outputId": "cf7275ac-62a3-46e0-f43a-be769151a8be"
      },
      "execution_count": 22,
      "outputs": [
        {
          "output_type": "display_data",
          "data": {
            "text/plain": [
              "<Figure size 432x288 with 1 Axes>"
            ],
            "image/png": "[encoded data removed]"
          },
          "metadata": {
            "needs_background": "light"
          }
        }
      ]
    }
  ]
}